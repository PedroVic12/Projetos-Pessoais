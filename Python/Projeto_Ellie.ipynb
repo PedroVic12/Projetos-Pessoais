{
  "nbformat": 4,
  "nbformat_minor": 0,
  "metadata": {
    "colab": {
      "provenance": []
    },
    "kernelspec": {
      "name": "python3",
      "display_name": "Python 3"
    },
    "language_info": {
      "name": "python"
    }
  },
  "cells": [
    {
      "cell_type": "code",
      "execution_count": null,
      "metadata": {
        "colab": {
          "base_uri": "https://localhost:8080/"
        },
        "id": "myhRU72FOncQ",
        "outputId": "41bba37a-ca85-49e8-a2ac-72a86074d499"
      },
      "outputs": [
        {
          "output_type": "stream",
          "name": "stdout",
          "text": [
            "I am a pet and my name is Fluffy\n",
            "I am a dog and my name is Buddy\n"
          ]
        }
      ],
      "source": [
        "class Pet:\n",
        "    def __init__(self, name, age):\n",
        "        self.name = name\n",
        "        self.age = age\n",
        "\n",
        "    def speak(self):\n",
        "        print(\"I am a pet and my name is\", self.name)\n",
        "\n",
        "class Dog(Pet):\n",
        "    def __init__(self, name, age, breed):\n",
        "        super().__init__(name, age)\n",
        "        self.breed = breed\n",
        "\n",
        "    def speak(self):\n",
        "        print(\"I am a dog and my name is\", self.name)\n",
        "\n",
        "pet1 = Pet(\"Fluffy\", 5)\n",
        "pet1.speak()\n",
        "\n",
        "dog1 = Dog(\"Buddy\", 3, \"Labrador\")\n",
        "dog1.speak()\n"
      ]
    },
    {
      "cell_type": "code",
      "source": [
        "import pyttsx3\n",
        "\n",
        "engine = pyttsx3.init()\n",
        "voices = engine.getProperty('voices')\n",
        "\n",
        "# Find the voice with the name \"Ellie\"\n",
        "ellie_voice = None\n",
        "for voice in voices:\n",
        "    if voice.name == \"Ellie\":\n",
        "        ellie_voice = voice\n",
        "        break\n",
        "\n",
        "if ellie_voice is not None:\n",
        "    # Set the voice to Ellie\n",
        "    engine.setProperty('voice', ellie_voice.id)\n",
        "    engine.say(\"Hello, I am a computer and I can talk!\")\n",
        "    engine.runAndWait()\n",
        "else:\n",
        "    print(\"Voice not found\")\n"
      ],
      "metadata": {
        "colab": {
          "base_uri": "https://localhost:8080/",
          "height": 385
        },
        "id": "C5DJwI_fPJQD",
        "outputId": "16d7cf38-31f1-4528-f1b7-fbf3fbe90366"
      },
      "execution_count": null,
      "outputs": [
        {
          "output_type": "error",
          "ename": "ModuleNotFoundError",
          "evalue": "ignored",
          "traceback": [
            "\u001b[0;31m---------------------------------------------------------------------------\u001b[0m",
            "\u001b[0;31mModuleNotFoundError\u001b[0m                       Traceback (most recent call last)",
            "\u001b[0;32m<ipython-input-2-38ecf2a40995>\u001b[0m in \u001b[0;36m<module>\u001b[0;34m\u001b[0m\n\u001b[0;32m----> 1\u001b[0;31m \u001b[0;32mimport\u001b[0m \u001b[0mpyttsx3\u001b[0m\u001b[0;34m\u001b[0m\u001b[0;34m\u001b[0m\u001b[0m\n\u001b[0m\u001b[1;32m      2\u001b[0m \u001b[0;34m\u001b[0m\u001b[0m\n\u001b[1;32m      3\u001b[0m \u001b[0mengine\u001b[0m \u001b[0;34m=\u001b[0m \u001b[0mpyttsx3\u001b[0m\u001b[0;34m.\u001b[0m\u001b[0minit\u001b[0m\u001b[0;34m(\u001b[0m\u001b[0;34m)\u001b[0m\u001b[0;34m\u001b[0m\u001b[0;34m\u001b[0m\u001b[0m\n\u001b[1;32m      4\u001b[0m \u001b[0mvoices\u001b[0m \u001b[0;34m=\u001b[0m \u001b[0mengine\u001b[0m\u001b[0;34m.\u001b[0m\u001b[0mgetProperty\u001b[0m\u001b[0;34m(\u001b[0m\u001b[0;34m'voices'\u001b[0m\u001b[0;34m)\u001b[0m\u001b[0;34m\u001b[0m\u001b[0;34m\u001b[0m\u001b[0m\n\u001b[1;32m      5\u001b[0m \u001b[0;34m\u001b[0m\u001b[0m\n",
            "\u001b[0;31mModuleNotFoundError\u001b[0m: No module named 'pyttsx3'",
            "",
            "\u001b[0;31m---------------------------------------------------------------------------\u001b[0;32m\nNOTE: If your import is failing due to a missing package, you can\nmanually install dependencies using either !pip or !apt.\n\nTo view examples of installing some common dependencies, click the\n\"Open Examples\" button below.\n\u001b[0;31m---------------------------------------------------------------------------\u001b[0m\n"
          ],
          "errorDetails": {
            "actions": [
              {
                "action": "open_url",
                "actionText": "Open Examples",
                "url": "/notebooks/snippets/importing_libraries.ipynb"
              }
            ]
          }
        }
      ]
    },
    {
      "cell_type": "markdown",
      "source": [
        "#------\n",
        "\n",
        "## Como fazer landing page com flutter e vender para empresas de delivery\n",
        "#------\n",
        "Para criar uma landing page com Flutter, você pode seguir os seguintes passos:\n",
        "\n",
        "    Instale o Flutter em sua máquina:\n",
        "\n",
        "    Para instalar o Flutter, você pode seguir as instruções do site oficial: https://flutter.dev/docs/get-started/install.\n",
        "\n",
        "    Crie um novo projeto no Flutter:\n",
        "\n",
        "    Abra o terminal e digite o seguinte comando:\n",
        "\n",
        "flutter create nome_do_projeto\n",
        "\n",
        "    Isso criará um novo projeto com o nome especificado.\n",
        "\n",
        "    Adicione as dependências necessárias:\n",
        "\n",
        "    Para criar uma landing page, você pode adicionar as seguintes dependências ao arquivo pubspec.yaml do seu projeto:\n",
        "\n",
        "dependencies:\n",
        "  flutter:\n",
        "    sdk: flutter\n",
        "  cupertino_icons: ^0.1.3\n",
        "  flutter_svg: ^0.23.2\n",
        "  flutter_webview_plugin: ^0.3.11\n",
        "  html: ^0.14.3\n",
        "  responsive_builder: ^1.0.4\n",
        "\n",
        "    Crie a estrutura da sua landing page:\n",
        "\n",
        "    Agora você pode criar a estrutura da sua landing page utilizando os widgets do Flutter. Alguns widgets úteis para essa tarefa são:\n",
        "\n",
        "    Container: para criar caixas que podem conter outros widgets;\n",
        "\n",
        "    Row e Column: para organizar widgets em linhas e colunas;\n",
        "\n",
        "    Expanded: para expandir widgets para ocupar todo o espaço disponível;\n",
        "\n",
        "    Text: para exibir texto;\n",
        "\n",
        "    Image: para exibir imagens;\n",
        "\n",
        "    Button: para criar botões;\n",
        "\n",
        "    Form: para criar formulários com campos de texto, botões, etc.\n",
        "\n",
        "    Adicione a funcionalidade da sua landing page:\n",
        "\n",
        "    Depois de criar a estrutura da sua landing page, você pode adicionar a funcionalidade desejada. Por exemplo, você pode criar um formulário de contato que envie as informações preenchidas para um banco de dados ou para um endereço de e-mail.\n",
        "\n",
        "Para vender a sua landing page para empresas de delivery, você pode seguir os seguintes passos:\n",
        "\n",
        "    Identifique as empresas de delivery interessadas:\n",
        "\n",
        "    Faça uma pesquisa para identificar as empresas de delivery que poderiam estar interessadas na sua landing page. Você pode usar ferramentas de busca online, redes sociais, grupos de discussão, etc.\n",
        "\n",
        "    Entre em contato com as empresas:"
      ],
      "metadata": {
        "id": "qn7IwrKMlngP"
      }
    },
    {
      "cell_type": "markdown",
      "source": [
        "# ---\n",
        "# Como fazer um Blog em Flutter (Clique no codigo abaixo!)\n",
        "# ---"
      ],
      "metadata": {
        "id": "m8D7EupzpKiR"
      }
    },
    {
      "cell_type": "markdown",
      "source": [
        "import 'package:flutter/material.dart';\n",
        "import 'package:flutter_markdown/flutter_markdown.dart';\n",
        "\n",
        "void main() {\n",
        "  runApp(MyApp());\n",
        "}\n",
        "\n",
        "class MyApp extends StatelessWidget {\n",
        "  @override\n",
        "  Widget build(BuildContext context) {\n",
        "    return MaterialApp(\n",
        "      title: 'Meu Blog',\n",
        "      home: HomePage(),\n",
        "    );\n",
        "  }\n",
        "}\n",
        "\n",
        "class HomePage extends StatefulWidget {\n",
        "  @override\n",
        "  _HomePageState createState() => _HomePageState();\n",
        "}\n",
        "\n",
        "class _HomePageState extends State<HomePage> {\n",
        "  // Lista de posts do blog\n",
        "  final List<Post> posts = [\n",
        "    Post(\n",
        "      title: 'Como criar um blog com Flutter',\n",
        "      content: '''\n",
        "# Como criar um blog com Flutter\n",
        "\n",
        "O Flutter é uma framework para desenvolvimento de aplicativos móveis que permite criar aplicativos para Android e iOS de forma rápida e fácil. Neste tutorial, vamos mostrar como criar um blog simples com Flutter.\n",
        "\n",
        "## Pré-requisitos\n",
        "\n",
        "- Ter o Flutter instalado em sua máquina\n",
        "- Ter conhecimentos básicos em Dart e em programação orientada a objetos\n",
        "\n",
        "## Criando o projeto\n",
        "\n",
        "Para criar um projeto no Flutter, basta abrir o terminal e digitar o comando `flutter create nome_do_projeto`. Isso criará um novo projeto com o nome especificado.\n",
        "\n",
        "## Adicionando as dependências\n",
        "\n",
        "Para criar um blog, vamos precisar da biblioteca `flutter_markdown`, que permite exibir conteúdo em formato Markdown. Para adicioná-la ao projeto, basta adicionar a seguinte linha ao arquivo `pubspec.yaml`:\n",
        "\n"
      ],
      "metadata": {
        "id": "PRzmjMv-llV4"
      }
    },
    {
      "cell_type": "code",
      "source": [],
      "metadata": {
        "id": "aA2RAnKmOsHk"
      },
      "execution_count": null,
      "outputs": []
    }
  ]
}